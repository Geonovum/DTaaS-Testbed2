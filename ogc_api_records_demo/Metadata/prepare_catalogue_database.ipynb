{
 "cells": [
  {
   "cell_type": "code",
   "execution_count": 1,
   "id": "f641bf86",
   "metadata": {},
   "outputs": [],
   "source": [
    "import json\n",
    "from tinydb import TinyDB"
   ]
  },
  {
   "cell_type": "code",
   "execution_count": 2,
   "id": "8048cd63",
   "metadata": {},
   "outputs": [],
   "source": [
    "db = TinyDB(r'..\\\\pygeoapi\\\\data\\\\metadata\\\\catalog.tinydb')"
   ]
  },
  {
   "cell_type": "code",
   "execution_count": null,
   "id": "b6115b6f",
   "metadata": {},
   "outputs": [],
   "source": [
    "json_record = json.load(open('.\\\\conversion\\\\waarneemstations~5~metadata.geojson'))\n",
    "\n",
    "# json_record\n",
    "res = db.insert(json_record)\n",
    "\n"
   ]
  },
  {
   "cell_type": "code",
   "execution_count": 8,
   "id": "fca6bb93",
   "metadata": {},
   "outputs": [],
   "source": [
    "json_record = json.load(open('.\\\\conversion\\\\goudappel_dcat.geojson'))\n",
    "res = db.insert(json_record)"
   ]
  },
  {
   "cell_type": "code",
   "execution_count": 9,
   "id": "f46c3fcb",
   "metadata": {},
   "outputs": [
    {
     "name": "stdout",
     "output_type": "stream",
     "text": [
      "{'type': 'Feature', 'conformsTo': ['http://www.opengis.net/spec/ogcapi-records-1/1.0/req/record-core', 'http://modellen.geostandaarden.nl/dcat-ap-nl/'], 'id': 'urn:xkdc:ds:nl.knmi::waarneemstations/5/', 'geometry': None, 'properties': {'dcterms:accrualPeriodicity': {'@id': 'http://publications.europa.eu/resource/authority/frequency/IRREG', 'http://www.w3.org/1999/02/22-rdf-syntax-ns#type': 'http://purl.org/dc/terms/Frequency'}, 'description': {'en': 'KNMI collects observations from the automatic weather stations situated in the Netherlands and BES islands on locations such as aerodromes, North Sea platforms and wind poles. This dataset provides metadata on these weather stations, such as location, name and type. The data in this dataset is formatted as NetCDF. It is also available as a CSV file in this dataset: https://dataplatform.knmi.nl/dataset/waarneemstations-csv-1-0.', 'nl': 'Het KNMI verzamelt gegevens van automatische waarneemstations in Nederland en BES eilanden op locaties zoals luchthavens (Aerodrome), Noordzee platformen en windpalen. Deze dataset bevat de metadata van de weerstations, zoals locatie, naam en type. De data in deze dataset is beschikbaar in NetCDF formaat. De data is ook beschikbaar als CSV bestand in de volgende dataset: https://dataplatform.knmi.nl/dataset/waarneemstations-csv-1-0.'}, 'dcterms:identifier': 'urn:xkdc:ds:nl.knmi::waarneemstations/5/', 'issued': '2023-09-28', 'language': {'@id': 'http://publications.europa.eu/resource/authority/language/ENG', 'http://www.w3.org/1999/02/22-rdf-syntax-ns#type': 'http://purl.org/dc/terms/LinguisticSystem'}, 'provenance': {'http://www.w3.org/1999/02/22-rdf-syntax-ns#type': 'http://purl.org/dc/terms/ProvenanceStatement', 'dcterms:description': {'en': 'Station archive KNMI', 'nl': 'Stationsarchief KNMI'}}, 'dcterms:spatial': {'http://www.w3.org/1999/02/22-rdf-syntax-ns#type': 'http://purl.org/dc/terms/Location', 'dcat:bbox': {'type': 'Polygon', 'coordinates': [[[-68.5, 55.7], [7.4, 55.7], [7.4, 12], [-68.5, 12], [-68.5, 55.7]]]}}, 'temporalExtent': {'startDate': '2023-09-28', 'endDate': '9999-12-31'}, 'title': {'en': 'Meteo data - information on stations in the KNMI observations network', 'nl': 'Meteo data - informatie over waarneemstations in het KNMI netwerk'}, 'contactPoint': {'organizationName': {'en': 'Koninklijk Nederlands Meteorologisch Instituut (KNMI)', 'nl': 'Koninklijk Nederlands Meteorologisch Instituut (KNMI)'}, 'email': 'mailto:opendata@knmi.nl'}, 'keywords': ['Inspire dataset', 'Inspire dataset'], 'themes': [{'prefLabel': {'en': 'Observation station', 'nl': 'Waarneemstation'}, 'inScheme': {'title': {'http://www.w3.org/1999/02/22-rdf-syntax-ns#type': 'http://www.w3.org/2004/02/skos/core#ConceptScheme', 'dcterms:issued': '2013-01-01', 'dcterms:title': {'en': 'DG Discovery Properties Vocabulary 1.0'}}}}, {'prefLabel': {'en': 'Environmental monitoring facilities', 'nl': 'Milieubewakingsvoorzieningen'}, 'inScheme': {'title': {'http://www.w3.org/1999/02/22-rdf-syntax-ns#type': 'http://www.w3.org/2004/02/skos/core#ConceptScheme', 'dcterms:issued': '2008-06-01', 'dcterms:title': {'en': 'GEMET - INSPIRE themes, version 1.0'}}}}, {'prefLabel': {'en': 'Network', 'nl': 'Netwerk'}, 'inScheme': {'title': {'http://www.w3.org/1999/02/22-rdf-syntax-ns#type': 'http://www.w3.org/2004/02/skos/core#ConceptScheme', 'dcterms:issued': '2013-01-01', 'dcterms:title': {'en': 'DG Discovery Properties Vocabulary 1.0'}}}}, {'prefLabel': {'en': 'Sensors', 'nl': 'Sensoren'}, 'inScheme': {'title': {'http://www.w3.org/1999/02/22-rdf-syntax-ns#type': 'http://www.w3.org/2004/02/skos/core#ConceptScheme', 'dcterms:issued': '2013-01-01', 'dcterms:title': {'en': 'DG Discovery Properties Vocabulary 1.0'}}}}], 'spatialResolutionInMeters': 1.0, 'publisher': {'name': {'en': 'Koninklijk Nederlands Meteorologisch Instituut (KNMI)', 'nl': 'Koninklijk Nederlands Meteorologisch Instituut (KNMI)'}, 'email': 'mailto:opendata@knmi.nl'}}, 'links': [{'rel': 'about', 'href': {'@id': 'https://dataplatform.knmi.nl/catalog/datasets/index.html?x-dataset=waarneemstations&x-dataset-version=5', 'http://www.w3.org/1999/02/22-rdf-syntax-ns#type': 'http://xmlns.com/foaf/0.1/Document', 'dcterms:title': {'en': 'KNMI Data Platform'}}, 'type': 'text/html', 'title': 'Meteo data - information on stations in the KNMI observations network'}]}\n",
      "{'type': 'Feature', 'conformsTo': ['http://www.opengis.net/spec/ogcapi-records-1/1.0/req/record-core', 'http://modellen.geostandaarden.nl/dcat-ap-nl/'], 'id': 'dataset-wegvakken', 'geometry': None, 'properties': {'creator': {'name': 'Goudappel B.V.', 'email': None}, 'description': {'nl': 'Dataset met verkeersintensiteiten per wegvak, gebaseerd op het MobiliteitsSpectrum en NVP.'}, 'dcterms:identifier': 'dataset-wegvakken', 'issued': '2025-04-29', 'language': {'@id': 'http://id.loc.gov/vocabulary/iso639-1/nl', 'http://www.w3.org/1999/02/22-rdf-syntax-ns#type': 'http://purl.org/dc/terms/LinguisticSystem'}, 'license': {'href': 'https://mobilitytwin.goudappel.nl/commercial-license', 'title': 'Commercial License'}, 'publisher': {'name': 'Goudappel B.V.', 'email': None}, 'dcterms:spatial': {'http://www.w3.org/1999/02/22-rdf-syntax-ns#type': 'http://purl.org/dc/terms/Location', 'dcat:bbox': {'type': 'Polygon', 'coordinates': [[[3.313, 50.75], [7.2275, 50.75], [7.2275, 53.6755], [3.313, 53.6755], [3.313, 50.75]]]}}, 'temporalExtent': {'startDate': '2024-01-01T00:00:00+00:00', 'endDate': '2028-01-01T00:00:00+00:00'}, 'title': {'nl': 'Verkeersintensiteiten op wegvakken'}, 'distributions': [], 'keywords': ['NWB', 'auto', 'fiets', 'intensiteiten', 'personenvervoer', 'voetganger', 'wegvakken'], 'themes': [{'prefLabel': {'en': 'Transport'}}]}}\n"
     ]
    }
   ],
   "source": [
    "for item in db:\n",
    "    print(item)"
   ]
  },
  {
   "cell_type": "code",
   "execution_count": 4,
   "id": "c195ce39",
   "metadata": {},
   "outputs": [
    {
     "data": {
      "text/plain": [
       "[6]"
      ]
     },
     "execution_count": 4,
     "metadata": {},
     "output_type": "execute_result"
    }
   ],
   "source": [
    "from tinydb import where, Query\n",
    "db.remove(where('id') == '7b03a8de-5d0c-11ee-8a7e-3ce9f7462b93')"
   ]
  },
  {
   "cell_type": "code",
   "execution_count": 10,
   "id": "28c8059e",
   "metadata": {},
   "outputs": [],
   "source": [
    "db.close()"
   ]
  },
  {
   "cell_type": "code",
   "execution_count": null,
   "id": "f5848fd0",
   "metadata": {},
   "outputs": [],
   "source": [
    "db2 = TinyDB(r'..\\\\pygeoapi\\\\data\\\\metadata\\\\catalog2.tinydb')\n",
    "json_record2 = json.load(open('.\\\\json\\\\localOutlier_dataproduct.json'))\n",
    "\n",
    "# json_record\n",
    "res = db2.insert(json_record2)\n"
   ]
  },
  {
   "cell_type": "code",
   "execution_count": null,
   "id": "37a1badb",
   "metadata": {},
   "outputs": [],
   "source": [
    "for item in db2:\n",
    "    print(item)"
   ]
  },
  {
   "cell_type": "code",
   "execution_count": null,
   "id": "16f211be",
   "metadata": {},
   "outputs": [],
   "source": [
    "db2.close()"
   ]
  },
  {
   "cell_type": "code",
   "execution_count": null,
   "id": "576a73aa",
   "metadata": {},
   "outputs": [],
   "source": [
    "from tinydb import where, Query\n",
    "db2.remove(where('id') == 'pygeoapi.process.localoutlier.LOFProcessor')\n"
   ]
  },
  {
   "cell_type": "code",
   "execution_count": null,
   "id": "3a44bc65",
   "metadata": {},
   "outputs": [],
   "source": [
    "import json\n",
    "from pyld import jsonld\n",
    "\n",
    "json_record = json.load(open('.\\\\json\\\\waarneemstations~5~metadata.jsonld'))\n",
    "print(\"--- Original JSON-LD Record ---\")\n",
    "print(json.dumps(json_record, indent=2))\n",
    "flattened_json = jsonld.flatten(json_record)\n",
    "print(\"--- Flattened JSON ---\")\n",
    "print(json.dumps(flattened_json, indent=2))"
   ]
  }
 ],
 "metadata": {
  "kernelspec": {
   "display_name": "pygeoapi",
   "language": "python",
   "name": "python3"
  },
  "language_info": {
   "codemirror_mode": {
    "name": "ipython",
    "version": 3
   },
   "file_extension": ".py",
   "mimetype": "text/x-python",
   "name": "python",
   "nbconvert_exporter": "python",
   "pygments_lexer": "ipython3",
   "version": "3.12.7"
  }
 },
 "nbformat": 4,
 "nbformat_minor": 5
}
